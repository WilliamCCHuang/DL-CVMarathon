{
  "nbformat": 4,
  "nbformat_minor": 0,
  "metadata": {
    "kernelspec": {
      "display_name": "Python 3",
      "language": "python",
      "name": "python3"
    },
    "language_info": {
      "codemirror_mode": {
        "name": "ipython",
        "version": 3
      },
      "file_extension": ".py",
      "mimetype": "text/x-python",
      "name": "python",
      "nbconvert_exporter": "python",
      "pygments_lexer": "ipython3",
      "version": "3.6.7"
    },
    "colab": {
      "name": "Day015_Cifar_HW.ipynb",
      "provenance": [],
      "collapsed_sections": []
    },
    "accelerator": "GPU"
  },
  "cells": [
    {
      "cell_type": "markdown",
      "metadata": {
        "id": "NL5W1O-aJA29",
        "colab_type": "text"
      },
      "source": [
        "## 『本次練習內容』\n",
        "#### 運用這幾天所學觀念搭建一個CNN分類器"
      ]
    },
    {
      "cell_type": "markdown",
      "metadata": {
        "id": "ufWEhmA0JA2-",
        "colab_type": "text"
      },
      "source": [
        "## 『本次練習目的』\n",
        "  #### 熟悉CNN分類器搭建步驟與原理\n",
        "  #### 學員們可以嘗試不同搭法，如使用不同的Maxpooling層，用GlobalAveragePooling取代Flatten等等"
      ]
    },
    {
      "cell_type": "code",
      "metadata": {
        "id": "28dppd5_JA2_",
        "colab_type": "code",
        "colab": {
          "base_uri": "https://localhost:8080/",
          "height": 34
        },
        "outputId": "d774cc7b-7bc0-4dec-adfd-47f1605b3abf"
      },
      "source": [
        "from keras import regularizers\n",
        "from keras.models import Sequential\n",
        "from keras.layers import Conv2D\n",
        "from keras.layers import MaxPooling2D\n",
        "from keras.layers import Flatten\n",
        "from keras.layers import Dense\n",
        "from keras.layers import Dropout\n",
        "from keras.layers import Activation\n",
        "from keras.layers import BatchNormalization\n",
        "from keras.callbacks import LearningRateScheduler\n",
        "from keras.datasets import cifar10\n",
        "import numpy as np\n",
        "import tensorflow as tf\n",
        "from sklearn.preprocessing import OneHotEncoder"
      ],
      "execution_count": 1,
      "outputs": [
        {
          "output_type": "stream",
          "text": [
            "Using TensorFlow backend.\n"
          ],
          "name": "stderr"
        }
      ]
    },
    {
      "cell_type": "code",
      "metadata": {
        "id": "w4YJC1gJJA3E",
        "colab_type": "code",
        "colab": {
          "base_uri": "https://localhost:8080/",
          "height": 34
        },
        "outputId": "e00bfbb8-d0b3-42de-e6d5-08f12fdc1e52"
      },
      "source": [
        "(x_train, y_train), (x_test, y_test) = cifar10.load_data()\n",
        "\n",
        "print(x_train.shape)  # (50000, 32, 32, 3)\n",
        "\n",
        "# Normalize Data\n",
        "def normalize(X_train, X_test):\n",
        "    mean = np.mean(X_train, axis=(0,1,2,3))\n",
        "    std = np.std(X_train, axis=(0, 1, 2, 3))\n",
        "    X_train = (X_train - mean) / (std + 1e-7)\n",
        "    X_test = (X_test - mean) / (std + 1e-7) \n",
        "    \n",
        "    return X_train, X_test, mean, std\n",
        "    \n",
        "    \n",
        "## Normalize Training and Testset    \n",
        "x_train, x_test, mean_train, std_train = normalize(x_train, x_test) "
      ],
      "execution_count": 2,
      "outputs": [
        {
          "output_type": "stream",
          "text": [
            "(50000, 32, 32, 3)\n"
          ],
          "name": "stdout"
        }
      ]
    },
    {
      "cell_type": "code",
      "metadata": {
        "id": "-B89SWBUJA3H",
        "colab_type": "code",
        "colab": {}
      },
      "source": [
        "## OneHot Label 由(None, 1)-(None, 10)\n",
        "## ex. label=2,變成[0,0,1,0,0,0,0,0,0,0]\n",
        "one_hot = OneHotEncoder()\n",
        "y_train = one_hot.fit_transform(y_train).toarray()\n",
        "y_test = one_hot.transform(y_test).toarray()"
      ],
      "execution_count": 0,
      "outputs": []
    },
    {
      "cell_type": "code",
      "metadata": {
        "id": "31W-2tJsTPQ-",
        "colab_type": "code",
        "colab": {}
      },
      "source": [
        "def scheduler(epoch, lr):\n",
        "    init_lr = 1e-3\n",
        "\n",
        "    if epoch < 12:\n",
        "        return init_lr\n",
        "    elif epoch >= 12 and epoch < 15:\n",
        "        return init_lr / 2\n",
        "    elif epoch >= 15 and epoch < 20:\n",
        "        return init_lr / 10"
      ],
      "execution_count": 0,
      "outputs": []
    },
    {
      "cell_type": "code",
      "metadata": {
        "id": "wOWs8BToJA3K",
        "colab_type": "code",
        "colab": {
          "base_uri": "https://localhost:8080/",
          "height": 1000
        },
        "outputId": "6d424323-5260-4aa5-e69b-07b871436fe2"
      },
      "source": [
        "l2 = 3e-3\n",
        "callbacks = [\n",
        "    LearningRateScheduler(scheduler, verbose=1),\n",
        "]\n",
        "\n",
        "classifier = Sequential()\n",
        "\n",
        "# 卷積組合\n",
        "classifier.add(Conv2D(32, 3, padding='same', input_shape=(32, 32, 3),\n",
        "                      activation = 'relu',\n",
        "                      kernel_regularizer=regularizers.l2(l2)))\n",
        "classifier.add(BatchNormalization())\n",
        "classifier.add(Conv2D(32, 3, padding='same',\n",
        "                      activation='relu',\n",
        "                      kernel_regularizer=regularizers.l2(l2)))\n",
        "classifier.add(BatchNormalization())\n",
        "\n",
        "'''自己決定MaxPooling2D放在哪裡'''\n",
        "classifier.add(MaxPooling2D(pool_size=(2,2)))\n",
        "\n",
        "# 卷積組合\n",
        "classifier.add(Conv2D(64, 3, padding='same',\n",
        "                      activation='relu',\n",
        "                      kernel_regularizer=regularizers.l2(l2)))\n",
        "classifier.add(BatchNormalization())\n",
        "classifier.add(Conv2D(64, 3, padding='same',\n",
        "                      activation='relu',\n",
        "                      kernel_regularizer=regularizers.l2(l2)))\n",
        "classifier.add(BatchNormalization())\n",
        "\n",
        "#flatten\n",
        "classifier.add(Flatten())\n",
        "\n",
        "# FC\n",
        "classifier.add(Dense(128, activation='relu', kernel_regularizer=regularizers.l2(l2)))\n",
        "\n",
        "classifier.add(Dropout(0.5))\n",
        "\n",
        "# 輸出\n",
        "classifier.add(Dense(10, activation='softmax', kernel_regularizer=regularizers.l2(l2)))\n",
        "\n",
        "# 超過兩個就要選 categorical_crossentrophy\n",
        "classifier.compile(optimizer='adam', loss='categorical_crossentropy', metrics=['acc'])\n",
        "classifier.fit(x_train, y_train, batch_size=128, epochs=18, validation_split=0.2, callbacks=callbacks)"
      ],
      "execution_count": 5,
      "outputs": [
        {
          "output_type": "stream",
          "text": [
            "Train on 40000 samples, validate on 10000 samples\n",
            "Epoch 1/18\n",
            "\n",
            "Epoch 00001: LearningRateScheduler setting learning rate to 0.001.\n",
            "40000/40000 [==============================] - 9s 223us/step - loss: 2.9206 - acc: 0.4104 - val_loss: 2.7285 - val_acc: 0.3938\n",
            "Epoch 2/18\n",
            "\n",
            "Epoch 00002: LearningRateScheduler setting learning rate to 0.001.\n",
            "40000/40000 [==============================] - 7s 167us/step - loss: 2.1534 - acc: 0.5728 - val_loss: 1.7962 - val_acc: 0.6633\n",
            "Epoch 3/18\n",
            "\n",
            "Epoch 00003: LearningRateScheduler setting learning rate to 0.001.\n",
            "40000/40000 [==============================] - 7s 165us/step - loss: 1.8197 - acc: 0.6503 - val_loss: 1.7324 - val_acc: 0.6707\n",
            "Epoch 4/18\n",
            "\n",
            "Epoch 00004: LearningRateScheduler setting learning rate to 0.001.\n",
            "40000/40000 [==============================] - 7s 168us/step - loss: 1.6453 - acc: 0.7020 - val_loss: 1.5899 - val_acc: 0.7135\n",
            "Epoch 5/18\n",
            "\n",
            "Epoch 00005: LearningRateScheduler setting learning rate to 0.001.\n",
            "40000/40000 [==============================] - 7s 166us/step - loss: 1.5545 - acc: 0.7269 - val_loss: 1.5628 - val_acc: 0.7294\n",
            "Epoch 6/18\n",
            "\n",
            "Epoch 00006: LearningRateScheduler setting learning rate to 0.001.\n",
            "40000/40000 [==============================] - 7s 166us/step - loss: 1.5228 - acc: 0.7472 - val_loss: 1.5767 - val_acc: 0.7414\n",
            "Epoch 7/18\n",
            "\n",
            "Epoch 00007: LearningRateScheduler setting learning rate to 0.001.\n",
            "40000/40000 [==============================] - 7s 167us/step - loss: 1.4810 - acc: 0.7685 - val_loss: 1.5993 - val_acc: 0.7362\n",
            "Epoch 8/18\n",
            "\n",
            "Epoch 00008: LearningRateScheduler setting learning rate to 0.001.\n",
            "40000/40000 [==============================] - 7s 166us/step - loss: 1.4903 - acc: 0.7745 - val_loss: 1.6272 - val_acc: 0.7368\n",
            "Epoch 9/18\n",
            "\n",
            "Epoch 00009: LearningRateScheduler setting learning rate to 0.001.\n",
            "40000/40000 [==============================] - 7s 165us/step - loss: 1.4577 - acc: 0.7903 - val_loss: 1.5845 - val_acc: 0.7540\n",
            "Epoch 10/18\n",
            "\n",
            "Epoch 00010: LearningRateScheduler setting learning rate to 0.001.\n",
            "40000/40000 [==============================] - 7s 164us/step - loss: 1.4582 - acc: 0.7972 - val_loss: 1.6166 - val_acc: 0.7509\n",
            "Epoch 11/18\n",
            "\n",
            "Epoch 00011: LearningRateScheduler setting learning rate to 0.001.\n",
            "40000/40000 [==============================] - 7s 168us/step - loss: 1.4587 - acc: 0.8026 - val_loss: 1.6020 - val_acc: 0.7649\n",
            "Epoch 12/18\n",
            "\n",
            "Epoch 00012: LearningRateScheduler setting learning rate to 0.001.\n",
            "40000/40000 [==============================] - 7s 169us/step - loss: 1.4536 - acc: 0.8069 - val_loss: 1.5961 - val_acc: 0.7733\n",
            "Epoch 13/18\n",
            "\n",
            "Epoch 00013: LearningRateScheduler setting learning rate to 0.0005.\n",
            "40000/40000 [==============================] - 7s 167us/step - loss: 1.1190 - acc: 0.8700 - val_loss: 1.2154 - val_acc: 0.8033\n",
            "Epoch 14/18\n",
            "\n",
            "Epoch 00014: LearningRateScheduler setting learning rate to 0.0005.\n",
            "40000/40000 [==============================] - 7s 166us/step - loss: 0.8836 - acc: 0.8970 - val_loss: 1.1575 - val_acc: 0.8057\n",
            "Epoch 15/18\n",
            "\n",
            "Epoch 00015: LearningRateScheduler setting learning rate to 0.0005.\n",
            "40000/40000 [==============================] - 7s 166us/step - loss: 0.8674 - acc: 0.9002 - val_loss: 1.2576 - val_acc: 0.7860\n",
            "Epoch 16/18\n",
            "\n",
            "Epoch 00016: LearningRateScheduler setting learning rate to 0.0001.\n",
            "40000/40000 [==============================] - 7s 167us/step - loss: 0.7441 - acc: 0.9455 - val_loss: 1.0600 - val_acc: 0.8256\n",
            "Epoch 17/18\n",
            "\n",
            "Epoch 00017: LearningRateScheduler setting learning rate to 0.0001.\n",
            "40000/40000 [==============================] - 7s 165us/step - loss: 0.6057 - acc: 0.9690 - val_loss: 0.9909 - val_acc: 0.8302\n",
            "Epoch 18/18\n",
            "\n",
            "Epoch 00018: LearningRateScheduler setting learning rate to 0.0001.\n",
            "40000/40000 [==============================] - 7s 164us/step - loss: 0.5199 - acc: 0.9784 - val_loss: 0.9323 - val_acc: 0.8317\n"
          ],
          "name": "stdout"
        },
        {
          "output_type": "execute_result",
          "data": {
            "text/plain": [
              "<keras.callbacks.callbacks.History at 0x7fbb2a640ef0>"
            ]
          },
          "metadata": {
            "tags": []
          },
          "execution_count": 5
        }
      ]
    },
    {
      "cell_type": "code",
      "metadata": {
        "id": "KEMrpskWboR9",
        "colab_type": "code",
        "colab": {
          "base_uri": "https://localhost:8080/",
          "height": 68
        },
        "outputId": "a361e49e-de63-450f-85b5-4bcdf8dd1449"
      },
      "source": [
        "loss, acc = classifier.evaluate(x_test, y_test)\n",
        "print('test loss: {:.4f}'.format(loss))\n",
        "print('test acc: {:.4f}'.format(acc))"
      ],
      "execution_count": 6,
      "outputs": [
        {
          "output_type": "stream",
          "text": [
            "10000/10000 [==============================] - 1s 124us/step\n",
            "test loss: 0.9473\n",
            "test acc: 0.8232\n"
          ],
          "name": "stdout"
        }
      ]
    },
    {
      "cell_type": "markdown",
      "metadata": {
        "id": "x5JzI3rqJA3M",
        "colab_type": "text"
      },
      "source": [
        "## 預測新圖片，輸入影像前處理要與訓練時相同\n",
        "#### ((X-mean)/(std+1e-7) ):這裡的mean跟std是訓練集的\n",
        "## 維度如下方示範"
      ]
    },
    {
      "cell_type": "code",
      "metadata": {
        "id": "29Qg-GzRJA3N",
        "colab_type": "code",
        "colab": {
          "base_uri": "https://localhost:8080/",
          "height": 68
        },
        "outputId": "498c6c41-8051-4b89-a116-9ee2c132ecc5"
      },
      "source": [
        "input_example = (np.zeros(shape=(1, 32, 32, 3)) - mean_train) / (std_train + 1e-7) \n",
        "classifier.predict(input_example)"
      ],
      "execution_count": 7,
      "outputs": [
        {
          "output_type": "execute_result",
          "data": {
            "text/plain": [
              "array([[0.21921903, 0.00292347, 0.33102608, 0.08667612, 0.195629  ,\n",
              "        0.02711849, 0.0896173 , 0.02668261, 0.01805988, 0.00304805]],\n",
              "      dtype=float32)"
            ]
          },
          "metadata": {
            "tags": []
          },
          "execution_count": 7
        }
      ]
    },
    {
      "cell_type": "code",
      "metadata": {
        "id": "-vLWS7VLcC5R",
        "colab_type": "code",
        "colab": {}
      },
      "source": [
        ""
      ],
      "execution_count": 0,
      "outputs": []
    }
  ]
}