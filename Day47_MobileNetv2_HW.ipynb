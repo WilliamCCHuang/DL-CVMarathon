{
 "cells": [
  {
   "cell_type": "markdown",
   "metadata": {},
   "source": [
    "# 作業"
   ]
  },
  {
   "cell_type": "markdown",
   "metadata": {},
   "source": [
    "### 嘗試用 keras 的 DepthwiseConv2D 等 layers 實做 Inverted Residual Block.\n",
    "   - depthwise's filter shape 爲 (3,3), padding = same\n",
    "   - 不需要給 alpha, depth multiplier 參數\n",
    "   - expansion 因子爲 6"
   ]
  },
  {
   "cell_type": "markdown",
   "metadata": {},
   "source": [
    "##### 載入套件"
   ]
  },
  {
   "cell_type": "code",
   "execution_count": 1,
   "metadata": {
    "collapsed": false,
    "tags": []
   },
   "outputs": [
    {
     "output_type": "stream",
     "name": "stderr",
     "text": "Using TensorFlow backend.\n"
    }
   ],
   "source": [
    "from keras.models import Input, Model\n",
    "from keras.layers import DepthwiseConv2D, Conv2D, BatchNormalization, ReLU, Add"
   ]
  },
  {
   "cell_type": "markdown",
   "metadata": {},
   "source": [
    "##### 定義 Separable Convolution 函數 (請在此實做)"
   ]
  },
  {
   "cell_type": "code",
   "execution_count": 12,
   "metadata": {
    "collapsed": false
   },
   "outputs": [],
   "source": [
    "def InvertedRes(input, expansion):\n",
    "    '''\n",
    "    Args:\n",
    "        input: input tensor\n",
    "        expansion: expand filters size\n",
    "    Output:\n",
    "        output: output tensor\n",
    "    '''\n",
    "    x = Conv2D(expansion, (1,1))(input)\n",
    "    x = BatchNormalization()(x)\n",
    "    x = ReLU()(x)\n",
    "    x = DepthwiseConv2D((3,3), padding='same')(x)\n",
    "    x = BatchNormalization()(x)\n",
    "    x = ReLU()(x)\n",
    "    x = Conv2D(3, (1,1), padding='same')(x)\n",
    "    x = BatchNormalization()(x)\n",
    "    x = ReLU()(x)\n",
    "    output = Add()([input,x])\n",
    "    return output\n"
   ]
  },
  {
   "cell_type": "markdown",
   "metadata": {},
   "source": [
    "##### 建構模型"
   ]
  },
  {
   "cell_type": "code",
   "execution_count": 13,
   "metadata": {
    "collapsed": false,
    "tags": []
   },
   "outputs": [
    {
     "output_type": "stream",
     "name": "stdout",
     "text": "Model: \"model_1\"\n__________________________________________________________________________________________________\nLayer (type)                    Output Shape         Param #     Connected to                     \n==================================================================================================\ninput_6 (InputLayer)            (None, 64, 64, 3)    0                                            \n__________________________________________________________________________________________________\nconv2d_5 (Conv2D)               (None, 64, 64, 6)    24          input_6[0][0]                    \n__________________________________________________________________________________________________\nbatch_normalization_10 (BatchNo (None, 64, 64, 6)    24          conv2d_5[0][0]                   \n__________________________________________________________________________________________________\nre_lu_10 (ReLU)                 (None, 64, 64, 6)    0           batch_normalization_10[0][0]     \n__________________________________________________________________________________________________\ndepthwise_conv2d_6 (DepthwiseCo (None, 64, 64, 6)    60          re_lu_10[0][0]                   \n__________________________________________________________________________________________________\nbatch_normalization_11 (BatchNo (None, 64, 64, 6)    24          depthwise_conv2d_6[0][0]         \n__________________________________________________________________________________________________\nre_lu_11 (ReLU)                 (None, 64, 64, 6)    0           batch_normalization_11[0][0]     \n__________________________________________________________________________________________________\nconv2d_6 (Conv2D)               (None, 64, 64, 3)    21          re_lu_11[0][0]                   \n__________________________________________________________________________________________________\nbatch_normalization_12 (BatchNo (None, 64, 64, 3)    12          conv2d_6[0][0]                   \n__________________________________________________________________________________________________\nre_lu_12 (ReLU)                 (None, 64, 64, 3)    0           batch_normalization_12[0][0]     \n__________________________________________________________________________________________________\nadd_5 (Add)                     (None, 64, 64, 3)    0           input_6[0][0]                    \n                                                                 re_lu_12[0][0]                   \n==================================================================================================\nTotal params: 165\nTrainable params: 135\nNon-trainable params: 30\n__________________________________________________________________________________________________\n"
    }
   ],
   "source": [
    "input = Input((64, 64, 3))\n",
    "output = InvertedRes(input, 6)\n",
    "model = Model(inputs=input, outputs=output)\n",
    "model.summary()"
   ]
  },
  {
   "cell_type": "code",
   "execution_count": null,
   "metadata": {
    "collapsed": true
   },
   "outputs": [],
   "source": []
  }
 ],
 "metadata": {
  "kernelspec": {
   "display_name": "Python 3",
   "language": "python",
   "name": "python3"
  },
  "language_info": {
   "codemirror_mode": {
    "name": "ipython",
    "version": 3
   },
   "file_extension": ".py",
   "mimetype": "text/x-python",
   "name": "python",
   "nbconvert_exporter": "python",
   "pygments_lexer": "ipython3",
   "version": "3.7.6-final"
  }
 },
 "nbformat": 4,
 "nbformat_minor": 0
}